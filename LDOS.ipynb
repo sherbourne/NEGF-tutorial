{
 "cells": [
  {
   "cell_type": "markdown",
   "metadata": {},
   "source": [
    "# NEGF Tutorial \n",
    "##  Local Density of States calcilation using NEGF \n",
    "\n",
    "$LDOS = \\sum_i$"
   ]
  },
  {
   "cell_type": "code",
   "execution_count": 46,
   "metadata": {
    "collapsed": true
   },
   "outputs": [],
   "source": [
    "%matplotlib inline\n",
    "import numpy as np\n",
    "from scipy.linalg import inv\n",
    "import math\n",
    "import cmath \n",
    "import matplotlib.pyplot as plt\n",
    "from numpy.lib.scimath import sqrt as csqrt"
   ]
  },
  {
   "cell_type": "code",
   "execution_count": 47,
   "metadata": {
    "collapsed": false
   },
   "outputs": [],
   "source": [
    "# Physical Constants\n",
    "h    =   6.582119514e-16    # Plank's constant [eV*s]\n",
    "hh   =   1.0545718e-34      # Plank's constant [J*s]\n",
    "m0   =   9.11e-31           # Electron Mass [kg]\n",
    "q    =   1.6e-19            # Elementary Charge [C]\n",
    "kT   =   8.6173e-5*300      # Boltzmann constant kB multiplied by temperature T=300K\n"
   ]
  },
  {
   "cell_type": "code",
   "execution_count": 48,
   "metadata": {
    "collapsed": true
   },
   "outputs": [],
   "source": [
    "# Parameters GaAs\n",
    "Eg    = 1.420               # conduction band gap [eV]\n",
    "m_eff = 0.067*m0            # effective mass [kg]\n",
    "eps   = 13.1*8.85e-12       # permittivity eps*eps_0 [F/m]"
   ]
  },
  {
   "cell_type": "code",
   "execution_count": 49,
   "metadata": {
    "collapsed": false
   },
   "outputs": [],
   "source": [
    "# Structure \n",
    "Nx       =  40               # number of spatial grid points  \n",
    "dx       =  1.2*1e-9         # delta x in [m] (total nanowire lenght is dx*Nx)\n",
    "\n",
    "\n",
    "# Energy discretized\n",
    "\n",
    "Emin = Eg-0.22                      # energy interval [eV]\n",
    "Emax = Eg+0.58\n",
    "\n",
    "NE = 500                            # number of energy grid points\n",
    "E  = np.linspace(Emin, Emax, NE);   # energy grid\n",
    "dE = E[1] - E[0] \n",
    "gamma = 1e-15j                      # small complex parameter gamma Eq.(43)\n",
    "\n",
    "# k-points (transverse momentum)\n",
    "k_max = (1.5/1e-9)\n",
    "NK = 800                            # number of k grid points\n",
    "k_point = np.linspace(0,k_max,NK)\n",
    "dk = k_point[1] - k_point[0]\n"
   ]
  },
  {
   "cell_type": "code",
   "execution_count": 50,
   "metadata": {
    "collapsed": false
   },
   "outputs": [],
   "source": [
    "# transverse energies E_k = h^2k^2/2m0 Eq.(7)\n",
    "E_k = h*hh*k_point ** 2/(2*m_eff)\n",
    "\n",
    "# H and W matrices (bulk Hamiltonian)\n",
    "H0 = np.zeros(NK)\n",
    "H0 =  Eg + 0.5*(h*hh/m_eff)*( 2/dx**2 + k_point**2 );  \n",
    "W  =  -0.5*(h*hh/m_eff)/dx**2; \n",
    "\n"
   ]
  },
  {
   "cell_type": "code",
   "execution_count": 51,
   "metadata": {
    "collapsed": false
   },
   "outputs": [],
   "source": [
    "# Construct the main Hamiltonian matrix T\n",
    "T = np.zeros((Nx,Nx,NK))\n",
    "\n",
    "for k in range(NK):\n",
    "    T[:,:,k] = H0[k]*np.diag(np.ones(Nx),0) + \\\n",
    "                       W*np.diag(np.ones(Nx-1),-1) + \\\n",
    "                          W*np.diag(np.ones(Nx-1),1)\n"
   ]
  },
  {
   "cell_type": "code",
   "execution_count": 52,
   "metadata": {
    "collapsed": false
   },
   "outputs": [],
   "source": [
    " # Green's functions\n",
    "   \n",
    " G_R    = np.zeros((Nx,Nx,NK),dtype=np.complex128)   # retarded Green's function\n",
    "BSE_L  = np.zeros((Nx,Nx,NK),dtype=np.complex128)    # boundary self-energy lesser (left)\n",
    "BSE_R  = np.zeros((Nx,Nx,NK),dtype=np.complex128)    # boundary self-energy lesser (right)  \n",
    "\n",
    "GamL = np.zeros((Nx,Nx,NK),dtype=np.complex128)      # Level broadening functions\n",
    "GamR = np.zeros((Nx,Nx,NK),dtype=np.complex128)\n",
    "  \n",
    "LDOS_3D =  np.zeros((Nx,NE))\n",
    "LDOS_1D =  np.zeros((Nx,NE))\n",
    "\n",
    "kLR    = np.zeros(NK,dtype=np.complex128)\n",
    "sig_LR = np.zeros(NK,dtype=np.complex128)"
   ]
  },
  {
   "cell_type": "code",
   "execution_count": 53,
   "metadata": {
    "collapsed": false,
    "scrolled": true
   },
   "outputs": [
    {
     "name": "stdout",
     "output_type": "stream",
     "text": [
      "Energy iteration number\n",
      "500 out of 500\n",
      "DONE....\n"
     ]
    }
   ],
   "source": [
    "print('Energy iteration number\\n', end='')\n",
    "for EnergyIter in range(NE):\n",
    "    for k in range(NK):\n",
    "        # Wavenumbers from dispersion relation\n",
    "            kLR[k]   =  (1/(dx))*cmath.acos(1 - m_eff*dx**2*(E[EnergyIter] - Eg - E_k[k])/(h*hh))\n",
    "            kLR.imag = np.absolute(kLR.imag)\n",
    "        # Boundary conditions (corner elements)\n",
    "            sig_LR[k] = - h*hh/(2*m_eff*dx**2)*cmath.exp(1j*kLR[k]*dx);\n",
    "        # Boundary self-energies lesser (left and right)\n",
    "            BSE_L[0,0,k]         = sig_LR[k]\n",
    "            BSE_R[Nx-1,Nx-1,k]   = sig_LR[k]\n",
    "    \n",
    "    # Ballistic Green's function integrated wrt k\n",
    "    G_R_T  =  np.zeros((Nx,Nx),dtype=np.complex128)\n",
    "    for k in range(NK):\n",
    "             G_R[:,:,k] = inv((E[EnergyIter]+gamma)*np.eye(Nx) - T[:,:,k] - \\\n",
    "                              BSE_L[:,:,k] - BSE_R[:,:,k])\n",
    "             G_R_T = G_R_T + (dk/math.pi)*k_point[k]*G_R[:,:,k]\n",
    "    # Dyson equation\n",
    "    # LDOS approximated by Green's functions Eq.(23)\n",
    "    \n",
    "    for SpaceGrid in range(Nx):\n",
    "        LDOS_1D[SpaceGrid,EnergyIter] = - 1/(math.pi*dx) * G_R[SpaceGrid,SpaceGrid,0].imag;\n",
    "        LDOS_3D[SpaceGrid,EnergyIter] = - 1/(math.pi*dx) * G_R_T[SpaceGrid,SpaceGrid].imag;\n",
    "        \n",
    "    \n",
    "    print(\"\\r%3d out of\" % (EnergyIter+1), str(NE), end='')\n",
    "print('\\nDONE....')     \n",
    "#Analytical expressions\n",
    "def ldos1D(x):\n",
    "     return 1/(math.pi*h*math.sqrt(q))*(csqrt(m_eff/(2*(x-Eg))).real)\n",
    "def ldos3D(x):\n",
    "     return  1/(2*math.pi**2*q**(3/2))*(2*m_eff/h**2)**(3/2)*(csqrt(E - Eg)).real\n",
    "    \n",
    "    \n",
    "    \n"
   ]
  },
  {
   "cell_type": "code",
   "execution_count": 54,
   "metadata": {
    "collapsed": false
   },
   "outputs": [
    {
     "data": {
      "image/png": "[encoded data removed]",
      "text/plain": [
       "<matplotlib.figure.Figure at 0x7faac7c0ea20>"
      ]
     },
     "metadata": {},
     "output_type": "display_data"
    },
    {
     "data": {
      "image/png": "[encoded data removed]",
      "text/plain": [
       "<matplotlib.figure.Figure at 0x7faac7b8e9e8>"
      ]
     },
     "metadata": {},
     "output_type": "display_data"
    }
   ],
   "source": [
    "\n",
    "plt.plot(E,LDOS_1D[2,:],E, ldos1D(E))\n",
    "plt.ylabel('1D LDOS')\n",
    "plt.xlabel('Energy, [eV]')\n",
    "plt.legend( ('NEGF approximation', 'Analytic expression'), loc='upper right')\n",
    "plt.show()\n",
    "plt.plot(E, LDOS_3D[2,:],E,ldos3D(E))\n",
    "plt.ylabel('3D LDOS')\n",
    "plt.xlabel('Energy, [eV]')\n",
    "plt.legend( ('NEGF approximation', 'Analytic expression'), loc='upper left')\n",
    "plt.show()\n"
   ]
  },
  {
   "cell_type": "code",
   "execution_count": null,
   "metadata": {
    "collapsed": false
   },
   "outputs": [],
   "source": [
    "\n"
   ]
  },
  {
   "cell_type": "code",
   "execution_count": null,
   "metadata": {
    "collapsed": false
   },
   "outputs": [],
   "source": []
  },
  {
   "cell_type": "code",
   "execution_count": null,
   "metadata": {
    "collapsed": false
   },
   "outputs": [],
   "source": []
  }
 ],
 "metadata": {
  "kernelspec": {
   "display_name": "Python 3",
   "language": "python",
   "name": "python3"
  },
  "language_info": {
   "codemirror_mode": {
    "name": "ipython",
    "version": 3
   },
   "file_extension": ".py",
   "mimetype": "text/x-python",
   "name": "python",
   "nbconvert_exporter": "python",
   "pygments_lexer": "ipython3",
   "version": "3.6.0"
  }
 },
 "nbformat": 4,
 "nbformat_minor": 2
}
